{
 "cells": [
  {
   "cell_type": "code",
   "execution_count": 1,
   "metadata": {
    "collapsed": false
   },
   "outputs": [],
   "source": [
    "from source.parser import Parser\n",
    "import source.molecule"
   ]
  },
  {
   "cell_type": "code",
   "execution_count": 2,
   "metadata": {
    "collapsed": false
   },
   "outputs": [
    {
     "name": "stdout",
     "output_type": "stream",
     "text": [
      "Atom element C at position 1\n",
      "Atom element C at position 2\n",
      "Single bond join Atom element C at position 1 and Atom element C at position 2\n"
     ]
    }
   ],
   "source": [
    "molecule = Parser().parse_smiles(\"CC\")\n",
    "for m in molecule.vertices:\n",
    "    print str(m)\n",
    "for e in molecule.edges:\n",
    "    print str(e)"
   ]
  },
  {
   "cell_type": "code",
   "execution_count": 3,
   "metadata": {
    "collapsed": false
   },
   "outputs": [
    {
     "name": "stdout",
     "output_type": "stream",
     "text": [
      "Aromatic element c at position 2\n",
      "Aromatic element c at position 3\n",
      "Aromatic element c at position 4\n",
      "Aromatic element c at position 1\n",
      "Aromatic element c at position 5\n",
      "Aromatic element c at position 6\n",
      "Single bond join Aromatic element c at position 3 and Aromatic element c at position 4\n",
      "Single bond join Aromatic element c at position 4 and Aromatic element c at position 5\n",
      "Single bond join Aromatic element c at position 1 and Aromatic element c at position 2\n",
      "Single bond join Aromatic element c at position 6 and Aromatic element c at position 1\n",
      "Single bond join Aromatic element c at position 2 and Aromatic element c at position 3\n",
      "Single bond join Aromatic element c at position 5 and Aromatic element c at position 6\n"
     ]
    }
   ],
   "source": [
    "molecule = Parser().parse_smiles(\"c1ccccc1\")\n",
    "for m in molecule.vertices:\n",
    "    print str(m)\n",
    "for e in molecule.edges:\n",
    "    print str(e)"
   ]
  },
  {
   "cell_type": "code",
   "execution_count": 15,
   "metadata": {
    "collapsed": false
   },
   "outputs": [
    {
     "name": "stdout",
     "output_type": "stream",
     "text": [
      "Atom element C at position 1\n",
      "Atom element C at position 2\n",
      "Single bond join Atom element C at position 1 and Atom element C at position 2\n"
     ]
    }
   ],
   "source": [
    "molecule = Parser().parse_smiles(\"CC\")\n",
    "for m in molecule.vertices:\n",
    "    print str(m)\n",
    "for e in molecule.edges:\n",
    "    print str(e)"
   ]
  },
  {
   "cell_type": "code",
   "execution_count": null,
   "metadata": {
    "collapsed": true
   },
   "outputs": [],
   "source": []
  }
 ],
 "metadata": {
  "kernelspec": {
   "display_name": "Python 2",
   "language": "python",
   "name": "python2"
  },
  "language_info": {
   "codemirror_mode": {
    "name": "ipython",
    "version": 2
   },
   "file_extension": ".py",
   "mimetype": "text/x-python",
   "name": "python",
   "nbconvert_exporter": "python",
   "pygments_lexer": "ipython2",
   "version": "2.7.9"
  }
 },
 "nbformat": 4,
 "nbformat_minor": 0
}
