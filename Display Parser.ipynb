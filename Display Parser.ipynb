{
 "cells": [
  {
   "cell_type": "code",
   "execution_count": 1,
   "metadata": {
    "collapsed": false
   },
   "outputs": [],
   "source": [
    "from source.parser import Parser\n",
    "import source.molecule"
   ]
  },
  {
   "cell_type": "markdown",
   "metadata": {},
   "source": [
    "## Single Bond"
   ]
  },
  {
   "cell_type": "code",
   "execution_count": 2,
   "metadata": {
    "collapsed": false
   },
   "outputs": [
    {
     "name": "stdout",
     "output_type": "stream",
     "text": [
      "Atom element C at position 0\n",
      "Atom element C at position 1\n",
      "Single bond join Atom element C at position 0 and Atom element C at position 1\n"
     ]
    }
   ],
   "source": [
    "molecule = Parser().parse_smiles(\"CC\")\n",
    "for m in molecule.vertices:\n",
    "    print str(m)\n",
    "for e in molecule.edges:\n",
    "    print str(e)"
   ]
  },
  {
   "cell_type": "markdown",
   "metadata": {},
   "source": [
    "## Aromatic Ring "
   ]
  },
  {
   "cell_type": "code",
   "execution_count": 3,
   "metadata": {
    "collapsed": false
   },
   "outputs": [
    {
     "name": "stdout",
     "output_type": "stream",
     "text": [
      "Aromatic element c at position 1\n",
      "Aromatic element c at position 2\n",
      "Aromatic element c at position 0\n",
      "Aromatic element c at position 3\n",
      "Aromatic element c at position 4\n",
      "Aromatic element c at position 5\n",
      "Aromatic bond join Aromatic element c at position 4 and Aromatic element c at position 5\n",
      "Aromatic bond join Aromatic element c at position 1 and Aromatic element c at position 2\n",
      "Aromatic bond join Aromatic element c at position 2 and Aromatic element c at position 3\n",
      "Aromatic bond join Aromatic element c at position 3 and Aromatic element c at position 4\n",
      "Aromatic bond join Aromatic element c at position 5 and Aromatic element c at position 0\n",
      "Aromatic bond join Aromatic element c at position 0 and Aromatic element c at position 1\n"
     ]
    }
   ],
   "source": [
    "molecule = Parser().parse_smiles(\"c1ccccc1\")\n",
    "for m in molecule.vertices:\n",
    "    print str(m)\n",
    "for e in molecule.edges:\n",
    "    print str(e)"
   ]
  },
  {
   "cell_type": "markdown",
   "metadata": {},
   "source": [
    "## Double Bond"
   ]
  },
  {
   "cell_type": "code",
   "execution_count": 4,
   "metadata": {
    "collapsed": false
   },
   "outputs": [
    {
     "name": "stdout",
     "output_type": "stream",
     "text": [
      "Atom element C at position 0\n",
      "Atom element C at position 1\n",
      "Double bond join Atom element C at position 0 and Atom element C at position 1\n"
     ]
    }
   ],
   "source": [
    "molecule = Parser().parse_smiles(\"C=C\")\n",
    "for m in molecule.vertices:\n",
    "    print str(m)\n",
    "for e in molecule.edges:\n",
    "    print str(e)"
   ]
  },
  {
   "cell_type": "markdown",
   "metadata": {},
   "source": [
    "## Aromatic ring with connected atoms"
   ]
  },
  {
   "cell_type": "code",
   "execution_count": 5,
   "metadata": {
    "collapsed": false
   },
   "outputs": [
    {
     "name": "stdout",
     "output_type": "stream",
     "text": [
      "Aromatic element c at position 1\n",
      "Aromatic element c at position 5\n",
      "Aromatic element c at position 4\n",
      "Atom element N at position 0\n",
      "Aromatic element c at position 3\n",
      "Aromatic element c at position 2\n",
      "Aromatic element c at position 6\n",
      "Atom element N at position 7\n",
      "Aromatic bond join Aromatic element c at position 6 and Aromatic element c at position 1\n",
      "Single bond join Atom element N at position 0 and Aromatic element c at position 1\n",
      "Aromatic bond join Aromatic element c at position 4 and Aromatic element c at position 5\n",
      "Aromatic bond join Aromatic element c at position 2 and Aromatic element c at position 3\n",
      "Aromatic bond join Aromatic element c at position 5 and Aromatic element c at position 6\n",
      "Aromatic bond join Aromatic element c at position 3 and Aromatic element c at position 4\n",
      "Single bond join Aromatic element c at position 6 and Atom element N at position 7\n",
      "Aromatic bond join Aromatic element c at position 1 and Aromatic element c at position 2\n"
     ]
    }
   ],
   "source": [
    "molecule = Parser().parse_smiles(\"Nc1ccccc1N\")\n",
    "for m in molecule.vertices:\n",
    "    print str(m)\n",
    "for e in molecule.edges:\n",
    "    print str(e)"
   ]
  },
  {
   "cell_type": "markdown",
   "metadata": {},
   "source": [
    "## Branch"
   ]
  },
  {
   "cell_type": "code",
   "execution_count": 6,
   "metadata": {
    "collapsed": false
   },
   "outputs": [
    {
     "name": "stdout",
     "output_type": "stream",
     "text": [
      "Atom element N at position 1\n",
      "Atom element C at position 5\n",
      "Atom element C at position 0\n",
      "Atom element C at position 4\n",
      "Atom element O at position 2\n",
      "Atom element N at position 3\n",
      "Single bond join Atom element C at position 4 and Atom element C at position 5\n",
      "Single bond join Atom element N at position 1 and Atom element C at position 4\n",
      "Single bond join Atom element C at position 0 and Atom element N at position 1\n",
      "Single bond join Atom element O at position 2 and Atom element N at position 3\n",
      "Double bond join Atom element N at position 1 and Atom element O at position 2\n"
     ]
    }
   ],
   "source": [
    "molecule = Parser().parse_smiles(\"CN(=ON)CC\")\n",
    "for m in molecule.vertices:\n",
    "    print str(m)\n",
    "for e in molecule.edges:\n",
    "    print str(e)"
   ]
  },
  {
   "cell_type": "markdown",
   "metadata": {},
   "source": [
    "## Disconnected atoms"
   ]
  },
  {
   "cell_type": "code",
   "execution_count": 7,
   "metadata": {
    "collapsed": false
   },
   "outputs": [
    {
     "name": "stdout",
     "output_type": "stream",
     "text": [
      "Atom element C at position 0\n",
      "Atom element N at position 1\n",
      "Atom element O at position 2\n",
      "Single bond join Atom element N at position 1 and Atom element O at position 2\n"
     ]
    }
   ],
   "source": [
    "molecule = Parser().parse_smiles(\"C.NO\")\n",
    "for m in molecule.vertices:\n",
    "    print str(m)\n",
    "for e in molecule.edges:\n",
    "    print str(e)"
   ]
  },
  {
   "cell_type": "code",
   "execution_count": null,
   "metadata": {
    "collapsed": true
   },
   "outputs": [],
   "source": []
  }
 ],
 "metadata": {
  "kernelspec": {
   "display_name": "Python 2",
   "language": "python",
   "name": "python2"
  },
  "language_info": {
   "codemirror_mode": {
    "name": "ipython",
    "version": 2
   },
   "file_extension": ".py",
   "mimetype": "text/x-python",
   "name": "python",
   "nbconvert_exporter": "python",
   "pygments_lexer": "ipython2",
   "version": "2.7.6"
  }
 },
 "nbformat": 4,
 "nbformat_minor": 0
}
