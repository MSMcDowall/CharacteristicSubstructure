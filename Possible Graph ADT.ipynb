{
 "metadata": {
  "name": "",
  "signature": "sha256:6b3cc8124a17e15085079d75f80084f2712ca4eccc98127cdf51763382d63e71"
 },
 "nbformat": 3,
 "nbformat_minor": 0,
 "worksheets": [
  {
   "cells": [
    {
     "cell_type": "code",
     "collapsed": false,
     "input": [
      "class Vertex:\n",
      "\tdef __init__(self, id, type):\n",
      "\t\tself.id = id\n",
      "\t\tself.type = type\n",
      "\t\tself.adjacent = {}\n",
      "\n",
      "\tdef getId(self):\n",
      "\t\treturn self.id\n",
      "\n",
      "\tdef getType(self):\n",
      "\t\treturn self.type\n",
      "\n",
      "\tdef getAdjacentVertices(self):\n",
      "\t\treturn self.adjacent.keys()\n",
      "\n",
      "\tdef addAdjacent(self, otherId, weight):\n",
      "\t\tself.adjacent[otherId] = weight\n",
      "\t\t\n",
      "\t\t\n"
     ],
     "language": "python",
     "metadata": {},
     "outputs": [],
     "prompt_number": 1
    },
    {
     "cell_type": "code",
     "collapsed": false,
     "input": [],
     "language": "python",
     "metadata": {},
     "outputs": []
    }
   ],
   "metadata": {}
  }
 ]
}