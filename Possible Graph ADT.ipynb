{
 "metadata": {
  "name": "",
  "signature": "sha256:b55b4e212ef460c83deef2c82049b252568e599dcfae702f55cf07f2f4fef86d"
 },
 "nbformat": 3,
 "nbformat_minor": 0,
 "worksheets": []
}